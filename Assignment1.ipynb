{
  "nbformat": 4,
  "nbformat_minor": 0,
  "metadata": {
    "colab": {
      "name": "Assignment1.ipynb",
      "provenance": [],
      "collapsed_sections": []
    },
    "kernelspec": {
      "name": "python3",
      "display_name": "Python 3"
    },
    "language_info": {
      "name": "python"
    }
  },
  "cells": [
    {
      "cell_type": "code",
      "metadata": {
        "colab": {
          "base_uri": "https://localhost:8080/"
        },
        "id": "6SfO4lve8ocX",
        "outputId": "a9be8cc3-8551-4c11-9a6a-2183d80b3599"
      },
      "source": [
        "n=5\n",
        "for i in range(n):\n",
        "  for j in range(i,n): \n",
        "    print(5,end=\"\")\n",
        "  print()  "
      ],
      "execution_count": 9,
      "outputs": [
        {
          "output_type": "stream",
          "name": "stdout",
          "text": [
            "55555\n",
            "5555\n",
            "555\n",
            "55\n",
            "5\n"
          ]
        }
      ]
    },
    {
      "cell_type": "code",
      "metadata": {
        "colab": {
          "base_uri": "https://localhost:8080/"
        },
        "id": "vSM2L51w9ULg",
        "outputId": "9d5b3932-240a-4896-8092-49004f1bab41"
      },
      "source": [
        "n=5\n",
        "for i in range(n):\n",
        "  for j in range(0,n-i+1):\n",
        "    print(j,end=\" \")\n",
        "  print()  \n",
        " \n",
        "      \n",
        "    "
      ],
      "execution_count": 27,
      "outputs": [
        {
          "output_type": "stream",
          "name": "stdout",
          "text": [
            "0 1 2 3 4 5 \n",
            "0 1 2 3 4 \n",
            "0 1 2 3 \n",
            "0 1 2 \n",
            "0 1 \n"
          ]
        }
      ]
    },
    {
      "cell_type": "code",
      "metadata": {
        "colab": {
          "base_uri": "https://localhost:8080/"
        },
        "id": "3-cilf9LC2L4",
        "outputId": "b77f76c4-429d-4ea8-c11b-cbe41bec23d5"
      },
      "source": [
        "n=9\n",
        "for i in range(1,n+1):\n",
        "  for j in range(1,i+1,2):\n",
        "    if(i%2!=0):\n",
        "     print(i,end=\" \")  \n",
        "  print() \n",
        "  \n",
        "\n"
      ],
      "execution_count": 64,
      "outputs": [
        {
          "output_type": "stream",
          "name": "stdout",
          "text": [
            "1 \n",
            "\n",
            "3 3 \n",
            "\n",
            "5 5 5 \n",
            "\n",
            "7 7 7 7 \n",
            "\n",
            "9 9 9 9 9 \n"
          ]
        }
      ]
    },
    {
      "cell_type": "code",
      "metadata": {
        "colab": {
          "base_uri": "https://localhost:8080/"
        },
        "id": "MrnqA5dLDOsH",
        "outputId": "3bcce466-6153-4345-84fd-5f6b58af24f6"
      },
      "source": [
        "n=5\n",
        "for i in range(1,n):\n",
        "  for j in range(i,0,-1):\n",
        "    print(j,end=\" \")\n",
        "  print()  \n"
      ],
      "execution_count": 119,
      "outputs": [
        {
          "output_type": "stream",
          "name": "stdout",
          "text": [
            "1 \n",
            "2 1 \n",
            "3 2 1 \n",
            "4 3 2 1 \n"
          ]
        }
      ]
    },
    {
      "cell_type": "code",
      "metadata": {
        "colab": {
          "base_uri": "https://localhost:8080/"
        },
        "id": "Cks5b2MLRA-V",
        "outputId": "0f491818-3138-44d4-d807-035d7ddd8ef7"
      },
      "source": [
        "start=1\n",
        "stop=2\n",
        "curr=stop\n",
        "for i in range(2,6):\n",
        "  for j in range(start,stop):\n",
        "    curr=curr-1\n",
        "    print(curr,end=\" \")\n",
        "  print()\n",
        "  start=stop\n",
        "  stop=stop+i\n",
        "  curr=stop  \n"
      ],
      "execution_count": 121,
      "outputs": [
        {
          "output_type": "stream",
          "name": "stdout",
          "text": [
            "1 \n",
            "3 2 \n",
            "6 5 4 \n",
            "10 9 8 7 \n"
          ]
        }
      ]
    },
    {
      "cell_type": "code",
      "metadata": {
        "colab": {
          "base_uri": "https://localhost:8080/"
        },
        "id": "oMJXJrlnUDcc",
        "outputId": "d723b916-5e98-483d-980f-309f220a2633"
      },
      "source": [
        "def pascal_Triangle(n):\n",
        "  for i in range(0,7):\n",
        "    for j in range(0,i+1):\n",
        "      print(decide_num(i,j),end=\" \")\n",
        "    print()\n",
        "def decide_num(n,k):  \n",
        "  num=1\n",
        "  if(k>n-k):\n",
        "    k=n-k\n",
        "  for i in range(0,k):  \n",
        "    num=num*(n-i)\n",
        "    num=num//(i+1)\n",
        "  return num   \n",
        "print(pascal_Triangle(7))   "
      ],
      "execution_count": 129,
      "outputs": [
        {
          "output_type": "stream",
          "name": "stdout",
          "text": [
            "1 \n",
            "1 1 \n",
            "1 2 1 \n",
            "1 3 3 1 \n",
            "1 4 6 4 1 \n",
            "1 5 10 10 5 1 \n",
            "1 6 15 20 15 6 1 \n",
            "None\n"
          ]
        }
      ]
    },
    {
      "cell_type": "code",
      "metadata": {
        "colab": {
          "base_uri": "https://localhost:8080/"
        },
        "id": "sxnust5QUO51",
        "outputId": "e3527ec7-0366-4817-f6a7-75bdf37ac8c9"
      },
      "source": [
        "for i in range(1,6):\n",
        "  for j in range(1,6):\n",
        "    if(j<=i):\n",
        "      print(i,end=\" \")\n",
        "    else:  \n",
        "      print(j,end=\" \")\n",
        "  print()    \n"
      ],
      "execution_count": 133,
      "outputs": [
        {
          "output_type": "stream",
          "name": "stdout",
          "text": [
            "1 2 3 4 5 \n",
            "2 2 3 4 5 \n",
            "3 3 3 4 5 \n",
            "4 4 4 4 5 \n",
            "5 5 5 5 5 \n"
          ]
        }
      ]
    },
    {
      "cell_type": "code",
      "metadata": {
        "colab": {
          "base_uri": "https://localhost:8080/"
        },
        "id": "ZP1lqnMsVwzP",
        "outputId": "4fa81679-684f-49ae-f111-d3c9ff535250"
      },
      "source": [
        "n=5\n",
        "k=2*n-2\n",
        "for i in range(n,-1,-1):\n",
        "  for j in range(k,0,-1):\n",
        "    print(end=\" \")\n",
        "  k=k+1\n",
        "  for j in range(0,i+1):  \n",
        "    print(\"*\",end=\" \")\n",
        "  print()  "
      ],
      "execution_count": 142,
      "outputs": [
        {
          "output_type": "stream",
          "name": "stdout",
          "text": [
            "        * * * * * * \n",
            "         * * * * * \n",
            "          * * * * \n",
            "           * * * \n",
            "            * * \n",
            "             * \n"
          ]
        }
      ]
    },
    {
      "cell_type": "code",
      "metadata": {
        "colab": {
          "base_uri": "https://localhost:8080/"
        },
        "id": "wAa5dJ5KWnva",
        "outputId": "96d2aaa5-7d61-4911-b721-873f6b8f661e"
      },
      "source": [
        "n = 7\n",
        "m = (2 * n) - 2\n",
        "for i in range(0, n):\n",
        "    for j in range(0, m):\n",
        "        print(end=\" \")\n",
        "    m = m - 1\n",
        "    for j in range(0, i + 1):\n",
        "        print(\"* \", end=' ')\n",
        "    print(\" \")\n"
      ],
      "execution_count": 144,
      "outputs": [
        {
          "output_type": "stream",
          "name": "stdout",
          "text": [
            "            *   \n",
            "           *  *   \n",
            "          *  *  *   \n",
            "         *  *  *  *   \n",
            "        *  *  *  *  *   \n",
            "       *  *  *  *  *  *   \n",
            "      *  *  *  *  *  *  *   \n"
          ]
        }
      ]
    },
    {
      "cell_type": "code",
      "metadata": {
        "colab": {
          "base_uri": "https://localhost:8080/"
        },
        "id": "erVBy6E-aQyA",
        "outputId": "c2e2062e-9c52-498f-95a2-fcf088a3571f"
      },
      "source": [
        "n = 6\n",
        "for i in range(0, n):\n",
        "    for j in range(0, i + 1):\n",
        "        print(\"*\", end=' ')\n",
        "    print(\" \")\n",
        "\n",
        "print(\" \")\n",
        "\n",
        "for i in range(n + 1, 0, -1):\n",
        "    for j in range(0, i - 1):\n",
        "        print(\"*\", end=' ')\n",
        "    print(\" \")"
      ],
      "execution_count": 145,
      "outputs": [
        {
          "output_type": "stream",
          "name": "stdout",
          "text": [
            "*  \n",
            "* *  \n",
            "* * *  \n",
            "* * * *  \n",
            "* * * * *  \n",
            "* * * * * *  \n",
            " \n",
            "* * * * * *  \n",
            "* * * * *  \n",
            "* * * *  \n",
            "* * *  \n",
            "* *  \n",
            "*  \n",
            " \n"
          ]
        }
      ]
    },
    {
      "cell_type": "code",
      "metadata": {
        "colab": {
          "base_uri": "https://localhost:8080/"
        },
        "id": "DvCrDSbIanqO",
        "outputId": "5febac50-f8b7-46a5-b7b4-6b949ba6ef08"
      },
      "source": [
        "for i in range(5):\n",
        "  print(\"*\",end=\" \")"
      ],
      "execution_count": 149,
      "outputs": [
        {
          "output_type": "stream",
          "name": "stdout",
          "text": [
            "* * * * * "
          ]
        }
      ]
    },
    {
      "cell_type": "code",
      "metadata": {
        "colab": {
          "base_uri": "https://localhost:8080/"
        },
        "id": "0gjYPzPbbDso",
        "outputId": "fda7fbfa-368e-4670-cab7-add556d87a14"
      },
      "source": [
        "rows = 14\n",
        "print(\"*\" * rows, end=\"\\n\")\n",
        "i = (rows // 2) - 1\n",
        "j = 2\n",
        "while i != 0:\n",
        "    while j <= (rows - 2):\n",
        "        print(\"*\" * i, end=\"\")\n",
        "        print(\"_\" * j, end=\"\")\n",
        "        print(\"*\" * i, end=\"\\n\")\n",
        "        i = i - 1\n",
        "        j = j + 2\n",
        " "
      ],
      "execution_count": 150,
      "outputs": [
        {
          "output_type": "stream",
          "name": "stdout",
          "text": [
            "**************\n",
            "******__******\n",
            "*****____*****\n",
            "****______****\n",
            "***________***\n",
            "**__________**\n",
            "*____________*\n"
          ]
        }
      ]
    }
  ]
}